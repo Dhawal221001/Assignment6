{
 "cells": [
  {
   "cell_type": "markdown",
   "id": "a3b3a473-e397-48a1-b867-7ecc067becf0",
   "metadata": {},
   "source": [
    "## Q1. Explain Class and Object with respect to Object-Oriented Programming. Give a suitable example."
   ]
  },
  {
   "cell_type": "markdown",
   "id": "75a9ea6e-7258-4596-883c-4607cef2706c",
   "metadata": {},
   "source": [
    "### Class is a user defined bueprint or prototype for an object. Classes prrovide a means of bundling data and functionality together.\n",
    "###   it is a user-defined data structure, which holds its own data menbers and member functions, which can be accessed and used by creating an instance of that class.\n",
    "\n",
    "\n",
    "### An object is an instance of a class. A class is like a blueprint while an instance is a copy of the class with actual values."
   ]
  },
  {
   "cell_type": "code",
   "execution_count": 3,
   "id": "059e141f-e044-4d9b-8377-d961aa6391d2",
   "metadata": {},
   "outputs": [],
   "source": [
    "class Person:\n",
    "    def name(self, name):\n",
    "        return name\n",
    "    def colour(self ,colour):\n",
    "        return f\"Skin is {colour} in colour\"\n",
    "    def height(self,height):\n",
    "        return f\"Person height is {height}\"\n",
    "    def weight(self, weight):\n",
    "        return f\"Person weight is{weight}\""
   ]
  },
  {
   "cell_type": "code",
   "execution_count": 6,
   "id": "7e5befbe-605e-4610-a28d-64eb5497f645",
   "metadata": {},
   "outputs": [],
   "source": [
    "individual=Person() ### Here individual is object of class Person"
   ]
  },
  {
   "cell_type": "code",
   "execution_count": 7,
   "id": "69e5849b-f55e-4a1b-a9fd-dd7e88bfa6eb",
   "metadata": {},
   "outputs": [
    {
     "data": {
      "text/plain": [
       "'Person height is 5.6'"
      ]
     },
     "execution_count": 7,
     "metadata": {},
     "output_type": "execute_result"
    }
   ],
   "source": [
    "individual.height(5.6)"
   ]
  },
  {
   "cell_type": "markdown",
   "id": "381bd056-75dc-4ce3-9f67-a3a0a0337b3b",
   "metadata": {},
   "source": [
    "## Q2. Name the four pillars of OOPs."
   ]
  },
  {
   "cell_type": "markdown",
   "id": "71ddbbc9-2079-426d-b536-997f6bbf0a23",
   "metadata": {},
   "source": [
    "### Polymorphism\n",
    "### Encapsulation\n",
    "### Abstractiopn\n",
    "### Inheritance"
   ]
  },
  {
   "cell_type": "markdown",
   "id": "09213c34-407b-4842-a6d1-ba50c9be8d83",
   "metadata": {},
   "source": [
    "## Q3. Explain why the __init__() function is used. Give a suitable example."
   ]
  },
  {
   "cell_type": "markdown",
   "id": "6cca2ca8-2256-4c24-b855-5aad340f1cef",
   "metadata": {},
   "source": [
    "### __init__() function is contructor in Python.\n",
    "### like method, it also contains a collection of statements and attributes. It runs as soon as an object of a class is instantiated. And the attributes passed inside the constructor are class attributes.  "
   ]
  },
  {
   "cell_type": "code",
   "execution_count": 4,
   "id": "356ea4bb-91fa-4d50-ad63-72dba0143682",
   "metadata": {},
   "outputs": [],
   "source": [
    "class init:\n",
    "    def __init__(self,name):\n",
    "        print(\"Hi!\")\n",
    "        self.name=name\n",
    "        \n",
    "    def age1(self,age):\n",
    "        self.age=age\n",
    "        return age"
   ]
  },
  {
   "cell_type": "code",
   "execution_count": 5,
   "id": "52053462-bc94-4b79-9627-8d50770e8b65",
   "metadata": {},
   "outputs": [
    {
     "name": "stdout",
     "output_type": "stream",
     "text": [
      "Hi!\n"
     ]
    }
   ],
   "source": [
    "obj_init=init(\"Dhawal\")"
   ]
  },
  {
   "cell_type": "code",
   "execution_count": 6,
   "id": "26986b16-2653-4044-b87a-c8249f6e7f9c",
   "metadata": {},
   "outputs": [
    {
     "data": {
      "text/plain": [
       "'Dhawal'"
      ]
     },
     "execution_count": 6,
     "metadata": {},
     "output_type": "execute_result"
    }
   ],
   "source": [
    "obj_init.name"
   ]
  },
  {
   "cell_type": "code",
   "execution_count": 10,
   "id": "1161d1d3-9860-447b-b5d4-3add6bea6d60",
   "metadata": {},
   "outputs": [
    {
     "data": {
      "text/plain": [
       "22"
      ]
     },
     "execution_count": 10,
     "metadata": {},
     "output_type": "execute_result"
    }
   ],
   "source": [
    "obj_init.age1(22)"
   ]
  },
  {
   "cell_type": "code",
   "execution_count": 11,
   "id": "d23b534f-e32b-4970-8808-a88f978a0e4e",
   "metadata": {},
   "outputs": [
    {
     "data": {
      "text/plain": [
       "22"
      ]
     },
     "execution_count": 11,
     "metadata": {},
     "output_type": "execute_result"
    }
   ],
   "source": [
    "obj_init.age"
   ]
  },
  {
   "cell_type": "markdown",
   "id": "262f0dbd-d0be-4b92-8adf-a4bfc4e1008e",
   "metadata": {},
   "source": [
    "## Q4. Why self is used in OOPs?"
   ]
  },
  {
   "cell_type": "markdown",
   "id": "2dc0a62b-c76d-43a7-94f4-802e0c370fa3",
   "metadata": {},
   "source": [
    "### Self parameter is used to represent the instance attributes and methods of the class"
   ]
  },
  {
   "cell_type": "markdown",
   "id": "b480417f-417f-42a6-8c73-dad96e6ea46b",
   "metadata": {},
   "source": [
    "## Q5. What is inheritance? Give an example for each type of inheritance."
   ]
  },
  {
   "cell_type": "markdown",
   "id": "423dad26-53a5-485d-b217-6571491c706b",
   "metadata": {},
   "source": [
    "### Inheritance is an OOPs concept which defines the mechanism of inheriting the properties of base class to the child class."
   ]
  },
  {
   "cell_type": "code",
   "execution_count": 13,
   "id": "5713d237-7e5a-494b-854c-af18d3ac2ea1",
   "metadata": {},
   "outputs": [],
   "source": [
    "### First single inheritance\n",
    "class parent:\n",
    "    def fun1(self):\n",
    "        pass\n",
    "\n",
    "class child(parent):\n",
    "    def fun2(self):\n",
    "        print(\"This is child class\")"
   ]
  },
  {
   "cell_type": "code",
   "execution_count": 14,
   "id": "4205662b-5a15-42ae-8959-6406898102f0",
   "metadata": {},
   "outputs": [],
   "source": [
    "obj1=child()"
   ]
  },
  {
   "cell_type": "code",
   "execution_count": 15,
   "id": "41ec76b5-6122-437b-9397-57c0ebb55e82",
   "metadata": {},
   "outputs": [],
   "source": [
    "obj1.fun1()"
   ]
  },
  {
   "cell_type": "code",
   "execution_count": 16,
   "id": "3ce7217f-8b4e-4bd4-9396-f7b6c0e0e568",
   "metadata": {},
   "outputs": [
    {
     "name": "stdout",
     "output_type": "stream",
     "text": [
      "This is child class\n"
     ]
    }
   ],
   "source": [
    "obj1.fun2()"
   ]
  },
  {
   "cell_type": "code",
   "execution_count": 21,
   "id": "3ea081fc-c70c-4040-9293-730b55bf803e",
   "metadata": {},
   "outputs": [],
   "source": [
    "### Multiple inheritance\n",
    "class m:\n",
    "    def genes_m(self):\n",
    "        return \"xx\"\n",
    "class f:\n",
    "    def genes_f(self):\n",
    "        return \"xy\"\n",
    "\n",
    "class child1(m,f):\n",
    "    def genes_c(self): \n",
    "        return \"xx or xy\""
   ]
  },
  {
   "cell_type": "code",
   "execution_count": 22,
   "id": "1cb62a6a-d248-4027-9faa-1a5761b72870",
   "metadata": {},
   "outputs": [],
   "source": [
    "obj2=child1()"
   ]
  },
  {
   "cell_type": "code",
   "execution_count": 23,
   "id": "467e7389-2cac-419b-96c7-ebf5a881cc8f",
   "metadata": {},
   "outputs": [
    {
     "data": {
      "text/plain": [
       "'xy'"
      ]
     },
     "execution_count": 23,
     "metadata": {},
     "output_type": "execute_result"
    }
   ],
   "source": [
    "obj2.genes_f()"
   ]
  },
  {
   "cell_type": "code",
   "execution_count": 24,
   "id": "dbca2937-4461-448c-a239-12e3193b4e50",
   "metadata": {},
   "outputs": [
    {
     "data": {
      "text/plain": [
       "'xx'"
      ]
     },
     "execution_count": 24,
     "metadata": {},
     "output_type": "execute_result"
    }
   ],
   "source": [
    "obj2.genes_m()"
   ]
  },
  {
   "cell_type": "code",
   "execution_count": 25,
   "id": "73ce7353-affb-4754-9741-cf1d4ed9cabe",
   "metadata": {},
   "outputs": [],
   "source": [
    "## Multiple inheritance\n",
    "class student:\n",
    "    def s_name(self,name):\n",
    "        return name\n",
    "class teacher(student):\n",
    "    def s_marks(self,marks):\n",
    "        return marks\n",
    "class pricipal(teacher):\n",
    "    def t_id(self,id):\n",
    "        return id"
   ]
  },
  {
   "cell_type": "code",
   "execution_count": 27,
   "id": "aa7ee47b-8c3f-45a6-8385-7f9e830606a3",
   "metadata": {},
   "outputs": [],
   "source": [
    "head=pricipal()"
   ]
  },
  {
   "cell_type": "code",
   "execution_count": 28,
   "id": "db3c19d9-ee41-4427-8b26-84271fc31767",
   "metadata": {},
   "outputs": [
    {
     "data": {
      "text/plain": [
       "49"
      ]
     },
     "execution_count": 28,
     "metadata": {},
     "output_type": "execute_result"
    }
   ],
   "source": [
    "head.t_id(49)"
   ]
  },
  {
   "cell_type": "code",
   "execution_count": 29,
   "id": "2b3c423f-a996-4b1c-925b-d5e30bc901e1",
   "metadata": {},
   "outputs": [
    {
     "data": {
      "text/plain": [
       "'Dhawal'"
      ]
     },
     "execution_count": 29,
     "metadata": {},
     "output_type": "execute_result"
    }
   ],
   "source": [
    "head.s_name(\"Dhawal\")"
   ]
  },
  {
   "cell_type": "code",
   "execution_count": 38,
   "id": "86f8eab9-162d-4d75-92b8-e6a52fdddd00",
   "metadata": {},
   "outputs": [],
   "source": [
    "## Heirarchical inheritance\n",
    "class assistant:\n",
    "    def a_name(self,a_name):\n",
    "        return a_name\n",
    "class manager(assistant):\n",
    "    def m_name(self):\n",
    "        return a_name\n",
    "class director(assistant):\n",
    "    def head(self):\n",
    "        pass"
   ]
  },
  {
   "cell_type": "code",
   "execution_count": 39,
   "id": "c41d92a7-23e6-4d5f-b7bd-0ef9e7c8da56",
   "metadata": {},
   "outputs": [],
   "source": [
    "dir1=director()"
   ]
  },
  {
   "cell_type": "code",
   "execution_count": 42,
   "id": "e8e4b752-deb5-4fc9-a6c4-25d257a8abc9",
   "metadata": {},
   "outputs": [
    {
     "data": {
      "text/plain": [
       "'Dhawal'"
      ]
     },
     "execution_count": 42,
     "metadata": {},
     "output_type": "execute_result"
    }
   ],
   "source": [
    "dir1.a_name(\"Dhawal\")"
   ]
  },
  {
   "cell_type": "code",
   "execution_count": 43,
   "id": "3bb03e09-75f9-46e3-8281-9d1b170208e9",
   "metadata": {},
   "outputs": [],
   "source": [
    "man1=manager()"
   ]
  },
  {
   "cell_type": "code",
   "execution_count": 44,
   "id": "89b08ec4-6d80-402a-98ea-82759831e251",
   "metadata": {},
   "outputs": [
    {
     "ename": "NameError",
     "evalue": "name 'a_name' is not defined",
     "output_type": "error",
     "traceback": [
      "\u001b[0;31m---------------------------------------------------------------------------\u001b[0m",
      "\u001b[0;31mNameError\u001b[0m                                 Traceback (most recent call last)",
      "Cell \u001b[0;32mIn[44], line 1\u001b[0m\n\u001b[0;32m----> 1\u001b[0m \u001b[43mman1\u001b[49m\u001b[38;5;241;43m.\u001b[39;49m\u001b[43mm_name\u001b[49m\u001b[43m(\u001b[49m\u001b[43m)\u001b[49m\n",
      "Cell \u001b[0;32mIn[38], line 7\u001b[0m, in \u001b[0;36mmanager.m_name\u001b[0;34m(self)\u001b[0m\n\u001b[1;32m      6\u001b[0m \u001b[38;5;28;01mdef\u001b[39;00m \u001b[38;5;21mm_name\u001b[39m(\u001b[38;5;28mself\u001b[39m):\n\u001b[0;32m----> 7\u001b[0m     \u001b[38;5;28;01mreturn\u001b[39;00m \u001b[43ma_name\u001b[49m\n",
      "\u001b[0;31mNameError\u001b[0m: name 'a_name' is not defined"
     ]
    }
   ],
   "source": [
    "man1.m_name()"
   ]
  },
  {
   "cell_type": "code",
   "execution_count": null,
   "id": "07afef63-2a17-42dd-aa1b-d8c503cd56a2",
   "metadata": {},
   "outputs": [],
   "source": []
  }
 ],
 "metadata": {
  "kernelspec": {
   "display_name": "Python 3 (ipykernel)",
   "language": "python",
   "name": "python3"
  },
  "language_info": {
   "codemirror_mode": {
    "name": "ipython",
    "version": 3
   },
   "file_extension": ".py",
   "mimetype": "text/x-python",
   "name": "python",
   "nbconvert_exporter": "python",
   "pygments_lexer": "ipython3",
   "version": "3.10.8"
  }
 },
 "nbformat": 4,
 "nbformat_minor": 5
}
